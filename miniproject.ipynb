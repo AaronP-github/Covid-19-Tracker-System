{
  "nbformat": 4,
  "nbformat_minor": 0,
  "metadata": {
    "colab": {
      "name": "miniproject.ipynb",
      "provenance": []
    },
    "kernelspec": {
      "display_name": "Python 3",
      "name": "python3"
    }
  },
  "cells": [
    {
      "cell_type": "code",
      "metadata": {
        "colab": {
          "base_uri": "https://localhost:8080/"
        },
        "id": "ztJ_DE6M4aSF",
        "outputId": "011772b8-8429-426c-a0bd-9d69c86a0061"
      },
      "source": [
        "pip install covid\n"
      ],
      "execution_count": null,
      "outputs": [
        {
          "output_type": "stream",
          "text": [
            "Collecting covid\n",
            "  Downloading https://files.pythonhosted.org/packages/37/8e/dc53c05abe88c45c1714b9eb0279962c0314e8b99ae226024b88f10d4a85/covid-2.5.0.tar.gz\n",
            "  Installing build dependencies ... \u001b[?25l\u001b[?25hdone\n",
            "  Getting requirements to build wheel ... \u001b[?25l\u001b[?25hdone\n",
            "    Preparing wheel metadata ... \u001b[?25l\u001b[?25hdone\n",
            "Requirement already satisfied: requests in /usr/local/lib/python3.7/dist-packages (from covid) (2.23.0)\n",
            "Collecting pydantic\n",
            "\u001b[?25l  Downloading https://files.pythonhosted.org/packages/9f/f2/2d5425efe57f6c4e06cbe5e587c1fd16929dcf0eb90bd4d3d1e1c97d1151/pydantic-1.8.2-cp37-cp37m-manylinux2014_x86_64.whl (10.1MB)\n",
            "\u001b[K     |████████████████████████████████| 10.1MB 3.8MB/s \n",
            "\u001b[?25hCollecting typer\n",
            "  Downloading https://files.pythonhosted.org/packages/90/34/d138832f6945432c638f32137e6c79a3b682f06a63c488dcfaca6b166c64/typer-0.3.2-py3-none-any.whl\n",
            "Requirement already satisfied: beautifulsoup4 in /usr/local/lib/python3.7/dist-packages (from covid) (4.6.3)\n",
            "Requirement already satisfied: urllib3!=1.25.0,!=1.25.1,<1.26,>=1.21.1 in /usr/local/lib/python3.7/dist-packages (from requests->covid) (1.24.3)\n",
            "Requirement already satisfied: chardet<4,>=3.0.2 in /usr/local/lib/python3.7/dist-packages (from requests->covid) (3.0.4)\n",
            "Requirement already satisfied: certifi>=2017.4.17 in /usr/local/lib/python3.7/dist-packages (from requests->covid) (2020.12.5)\n",
            "Requirement already satisfied: idna<3,>=2.5 in /usr/local/lib/python3.7/dist-packages (from requests->covid) (2.10)\n",
            "Requirement already satisfied: typing-extensions>=3.7.4.3 in /usr/local/lib/python3.7/dist-packages (from pydantic->covid) (3.7.4.3)\n",
            "Requirement already satisfied: click<7.2.0,>=7.1.1 in /usr/local/lib/python3.7/dist-packages (from typer->covid) (7.1.2)\n",
            "Building wheels for collected packages: covid\n",
            "  Building wheel for covid (PEP 517) ... \u001b[?25l\u001b[?25hdone\n",
            "  Created wheel for covid: filename=covid-2.5.0-cp37-none-any.whl size=10464 sha256=41cdada5424ca60d90a187ad10377753e1f2869394595a04aa8c6fde5f297a21\n",
            "  Stored in directory: /root/.cache/pip/wheels/78/97/6d/80d690c1ea9cbc2a75bddcc907513a44caa2910f8d2a00af78\n",
            "Successfully built covid\n",
            "Installing collected packages: pydantic, typer, covid\n",
            "Successfully installed covid-2.5.0 pydantic-1.8.2 typer-0.3.2\n"
          ],
          "name": "stdout"
        }
      ]
    },
    {
      "cell_type": "code",
      "metadata": {
        "id": "lcAg0SqVL7pW"
      },
      "source": [
        ""
      ],
      "execution_count": null,
      "outputs": []
    },
    {
      "cell_type": "code",
      "metadata": {
        "colab": {
          "background_save": true,
          "base_uri": "https://localhost:8080/"
        },
        "id": "939wIzg4GGx6",
        "outputId": "b7e5804d-9e8c-45e1-9c1a-c95ead9995c1"
      },
      "source": [
        "#code to track Covid19 USing python\n",
        "\n",
        "for i in range(0,100):\n",
        "    print(\" \")\n",
        "\n",
        "    #importing covid module\n",
        "    from covid import Covid\n",
        "    print(\"Covid Tracker\")\n",
        "    cv=Covid()\n",
        "\n",
        "    #Global results with the help of predefined functions\n",
        "    #assigned variables to the predefined function\n",
        "\n",
        "    act=cv.get_total_active_cases()\n",
        "    rec=cv.get_total_recovered()\n",
        "    death=cv.get_total_deaths()\n",
        "    con=cv.get_total_confirmed_cases()\n",
        "\n",
        "    print(\"1.Global Count\")#get all the global covid updates\n",
        "    print(\"2.Active Cases\")\n",
        "    print(\"3.confirmed Cases\")\n",
        "    print(\"4.Recovered Cases\")\n",
        "    print(\"5.Deceased\")\n",
        "    print(\"6.Get Covid Updates by country name\")\n",
        "\n",
        "    choice=input(\"Enter a number of your choice :\")\n",
        "\n",
        "    #if-elif-else statements used\n",
        "\n",
        "    if choice == '1':\n",
        "        print(\"Active Cases :\",act, \"\\nConfirmed Cases :\",con,\"\\nRecovered Cases :\",rec,\"\\nDeceased :\",death)\n",
        "\n",
        "    elif choice == '2':\n",
        "        print(\"Active Cases :\",act)\n",
        "\n",
        "    elif choice == '3':\n",
        "        print(\"confirmed Cases :\",con)\n",
        "\n",
        "    elif choice == '4':\n",
        "        print(\"Recovered Cases :\",rec)\n",
        "\n",
        "    elif choice == '5':\n",
        "        print(\"Deceased :\",death)\n",
        "\n",
        "    elif choice == '6':\n",
        "        str = i = input (\"enter Country Name:\")#Get the status of Covid19 in a particular country\n",
        "        cname = cv.get_status_by_country_name(i)\n",
        "        print (cname)\n",
        "\n",
        "    else :\n",
        "        print(\"Invalid option\")\n",
        "\n",
        "\n",
        "          #end of Program    \n",
        "2\n"
      ],
      "execution_count": null,
      "outputs": [
        {
          "output_type": "stream",
          "text": [
            " \n",
            "Covid Tracker\n",
            "1.Global Count\n",
            "2.Active Cases\n",
            "3.confirmed Cases\n",
            "4.Recovered Cases\n",
            "5.Deceased\n",
            "6.Get Covid Updates by country name\n",
            "Active Cases : 25536981 \n",
            "Confirmed Cases : 173727539 \n",
            "Recovered Cases : 111667775 \n",
            "Deceased : 3739642\n",
            " \n",
            "Covid Tracker\n",
            "1.Global Count\n",
            "2.Active Cases\n",
            "3.confirmed Cases\n",
            "4.Recovered Cases\n",
            "5.Deceased\n",
            "6.Get Covid Updates by country name\n",
            "Active Cases : 25536981 \n",
            "Confirmed Cases : 173727539 \n",
            "Recovered Cases : 111667775 \n",
            "Deceased : 3739642\n",
            " \n",
            "Covid Tracker\n",
            "1.Global Count\n",
            "2.Active Cases\n",
            "3.confirmed Cases\n",
            "4.Recovered Cases\n",
            "5.Deceased\n",
            "6.Get Covid Updates by country name\n"
          ],
          "name": "stdout"
        }
      ]
    },
    {
      "cell_type": "code",
      "metadata": {
        "id": "33ocGKpugL20"
      },
      "source": [
        ""
      ],
      "execution_count": null,
      "outputs": []
    }
  ]
}